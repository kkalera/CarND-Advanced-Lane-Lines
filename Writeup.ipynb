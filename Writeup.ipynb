{
 "cells": [
  {
   "cell_type": "markdown",
   "metadata": {},
   "source": [
    "# Project: Advanced lane finding\n",
    "In this project we are challenged to improve the on the first lane finding project.\n",
    "\n",
    "We are given images and photo's, taken from a camera in the center of a car. From those images and videos, we need to find the lane we are in. \n",
    "\n",
    "The code can be found here: https://github.com/kkalera/CarND-Advanced-Lane-Lines/blob/master/Untitled.ipynb\n",
    "\n",
    "\n",
    "\n",
    "So let's take a look at the steps we take.\n",
    "\n",
    "## Steps to take:\n",
    "- Camera calibration\n",
    "- Apply calibration to images\n",
    "- Use color calibration, sobel, gradient, etc to get a binary image\n",
    "- Transform the image to a birds eye view\n",
    "- Detect the pixels that make up the lane\n",
    "- Calculate the curvature of the lane\n",
    "- Calculate the vehicle's position in respect to the center of the lane\n",
    "- Transform the detected lane back to the camera's perspective\n",
    "- Overlay the lane on the image, show the lane curvature and show how far off center the vehicle is\n",
    "- Test the pipeline on video's"
   ]
  }
 ],
 "metadata": {
  "kernelspec": {
   "display_name": "Python 3",
   "language": "python",
   "name": "python3"
  },
  "language_info": {
   "codemirror_mode": {
    "name": "ipython",
    "version": 3
   },
   "file_extension": ".py",
   "mimetype": "text/x-python",
   "name": "python",
   "nbconvert_exporter": "python",
   "pygments_lexer": "ipython3",
   "version": "3.5.4"
  }
 },
 "nbformat": 4,
 "nbformat_minor": 2
}
